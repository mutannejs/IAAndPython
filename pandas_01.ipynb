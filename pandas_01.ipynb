{
 "cells": [
  {
   "cell_type": "code",
   "execution_count": 2,
   "id": "37dd176c",
   "metadata": {},
   "outputs": [
    {
     "name": "stdout",
     "output_type": "stream",
     "text": [
      "      Nome  Nota Aprovado\n",
      "0  Ricardo   4.5      Não\n",
      "1    Pedro   7.0      Sim\n",
      "2  Roberto   5.5      Não\n",
      "3   Carlos   9.0      Sim\n"
     ]
    }
   ],
   "source": [
    "# O pandas é muito útil para usar com dataframes (\"tabelas gigantes\")\n",
    "\n",
    "import pandas as pd\n",
    "\n",
    "alunos = {'Nome' : ['Ricardo', 'Pedro', 'Roberto', 'Carlos'],\n",
    "         'Nota' : [4.5, 7, 5.5, 9],\n",
    "         'Aprovado' : ['Não', 'Sim', 'Não', 'Sim']}\n",
    "\n",
    "# cria um dataframe a partir de um dicionario\n",
    "dataframe = pd.DataFrame(alunos)\n",
    "print(dataframe)"
   ]
  },
  {
   "cell_type": "code",
   "execution_count": 3,
   "id": "3fcca9a4",
   "metadata": {},
   "outputs": [
    {
     "name": "stdout",
     "output_type": "stream",
     "text": [
      "0     2\n",
      "1     6\n",
      "2     9\n",
      "3    10\n",
      "4     5\n",
      "dtype: int64\n"
     ]
    }
   ],
   "source": [
    "# series cria um vetor unidimencional, mas utilizando índices\n",
    "# é por exemplo um dataframe de uma coluna só\n",
    "objeto1 = pd.Series([2, 6, 9, 10, 5])\n",
    "print(objeto1)"
   ]
  },
  {
   "cell_type": "code",
   "execution_count": 6,
   "id": "87dc8e3d",
   "metadata": {},
   "outputs": [
    {
     "name": "stdout",
     "output_type": "stream",
     "text": [
      "0     1\n",
      "1    65\n",
      "2     2\n",
      "3     3\n",
      "dtype: int64\n"
     ]
    }
   ],
   "source": [
    "import numpy as np\n",
    "array1 = np.array([1, 65, 2, 3]) # necessário ser unidimencional\n",
    "objeto2 = pd.Series(array1) # converte um array para uma series pandas\n",
    "print(objeto2)"
   ]
  },
  {
   "cell_type": "code",
   "execution_count": null,
   "id": "c8b4fac1",
   "metadata": {},
   "outputs": [],
   "source": []
  }
 ],
 "metadata": {
  "kernelspec": {
   "display_name": "Python 3 (ipykernel)",
   "language": "python",
   "name": "python3"
  },
  "language_info": {
   "codemirror_mode": {
    "name": "ipython",
    "version": 3
   },
   "file_extension": ".py",
   "mimetype": "text/x-python",
   "name": "python",
   "nbconvert_exporter": "python",
   "pygments_lexer": "ipython3",
   "version": "3.11.2"
  }
 },
 "nbformat": 4,
 "nbformat_minor": 5
}

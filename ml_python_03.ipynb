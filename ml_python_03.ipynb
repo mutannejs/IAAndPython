{
 "cells": [
  {
   "cell_type": "code",
   "execution_count": null,
   "id": "0cbd8779",
   "metadata": {},
   "outputs": [],
   "source": [
    "#\n",
    "# Strings"
   ]
  },
  {
   "cell_type": "code",
   "execution_count": 7,
   "id": "49b18643",
   "metadata": {},
   "outputs": [
    {
     "name": "stdout",
     "output_type": "stream",
     "text": [
      "Estou \n",
      "gostando\n",
      "do curso\n",
      "Etugsad ocro\n"
     ]
    }
   ],
   "source": [
    "frase = 'Estou gostando do curso'\n",
    "print(frase[:6])\n",
    "print(frase[6:14]) # não pega a letra 14\n",
    "print(frase[15:])\n",
    "print(frase[::2]) # pula de dois em dois caracteres"
   ]
  },
  {
   "cell_type": "code",
   "execution_count": 14,
   "id": "59ac9765",
   "metadata": {},
   "outputs": [
    {
     "name": "stdout",
     "output_type": "stream",
     "text": [
      "3\n",
      "23\n"
     ]
    }
   ],
   "source": [
    "print(frase.count(' '))\n",
    "print(len(frase))"
   ]
  },
  {
   "cell_type": "code",
   "execution_count": 19,
   "id": "0f2cf700",
   "metadata": {},
   "outputs": [
    {
     "name": "stdout",
     "output_type": "stream",
     "text": [
      "Estou gostando do curso\n",
      "Estou gostando do aprendizado\n"
     ]
    }
   ],
   "source": [
    "frase2 = frase.replace('curso', 'aprendizado')\n",
    "print(frase)\n",
    "print(frase2)"
   ]
  }
 ],
 "metadata": {
  "kernelspec": {
   "display_name": "Python 3 (ipykernel)",
   "language": "python",
   "name": "python3"
  },
  "language_info": {
   "codemirror_mode": {
    "name": "ipython",
    "version": 3
   },
   "file_extension": ".py",
   "mimetype": "text/x-python",
   "name": "python",
   "nbconvert_exporter": "python",
   "pygments_lexer": "ipython3",
   "version": "3.11.2"
  }
 },
 "nbformat": 4,
 "nbformat_minor": 5
}

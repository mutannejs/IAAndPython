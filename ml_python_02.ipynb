{
 "cells": [
  {
   "cell_type": "code",
   "execution_count": 1,
   "id": "be0c8ead",
   "metadata": {},
   "outputs": [],
   "source": [
    "#\n",
    "# Tupla"
   ]
  },
  {
   "cell_type": "code",
   "execution_count": 4,
   "id": "35e3c54f",
   "metadata": {},
   "outputs": [
    {
     "name": "stdout",
     "output_type": "stream",
     "text": [
      "<class 'tuple'>\n",
      "(2, 3, 5)\n",
      "[6, 8, 10]\n",
      "(6, 8, 10)\n"
     ]
    }
   ],
   "source": [
    "tupla = (2, 3, 5) # é uma lista que não pode ser alterada, também ocupa mesnos memória\n",
    "print(type(tupla))\n",
    "print(tupla)\n",
    "lista = [6, 8, 10]\n",
    "tupla2 = tuple(lista)\n",
    "print(lista)\n",
    "print(tupla2)"
   ]
  },
  {
   "cell_type": "code",
   "execution_count": null,
   "id": "7c11fe8c",
   "metadata": {},
   "outputs": [],
   "source": [
    "# \n",
    "# Dicionários\n",
    "# {chave : valor}"
   ]
  },
  {
   "cell_type": "code",
   "execution_count": 5,
   "id": "c073f473",
   "metadata": {},
   "outputs": [],
   "source": [
    "dicionario = {'Curso' : 'Pyton para ML',\n",
    "             'Prudutor' : 'Didática Tech',\n",
    "             'Preço' : 'Gratuito',\n",
    "             'Nota' : 10}"
   ]
  },
  {
   "cell_type": "code",
   "execution_count": 7,
   "id": "d4b15e3b",
   "metadata": {},
   "outputs": [
    {
     "name": "stdout",
     "output_type": "stream",
     "text": [
      "Gratuito\n",
      "0.0\n"
     ]
    }
   ],
   "source": [
    "print(dicionario['Preço'])\n",
    "dicionario['Preço'] = 0.0\n",
    "print(dicionario['Preço'])"
   ]
  },
  {
   "cell_type": "code",
   "execution_count": 8,
   "id": "38b047ec",
   "metadata": {},
   "outputs": [],
   "source": [
    "dicionario['Pré-requisito'] = 'Python básico' # adicionado novo item"
   ]
  },
  {
   "cell_type": "code",
   "execution_count": 16,
   "id": "4959d875",
   "metadata": {},
   "outputs": [
    {
     "name": "stdout",
     "output_type": "stream",
     "text": [
      "<class 'dict'> \n",
      "\n",
      "{} \n",
      "\n",
      "dict_keys([]) \n",
      "\n",
      "dict_values([]) \n",
      "\n"
     ]
    }
   ],
   "source": [
    "print(type(dicionario), '\\n')\n",
    "print(dicionario, '\\n')\n",
    "print(dicionario.keys(), '\\n')\n",
    "print(dicionario.values(), '\\n')\n",
    "dicionario.clear() # apaga o dicionário"
   ]
  },
  {
   "cell_type": "code",
   "execution_count": null,
   "id": "17bba589",
   "metadata": {},
   "outputs": [],
   "source": []
  }
 ],
 "metadata": {
  "kernelspec": {
   "display_name": "Python 3 (ipykernel)",
   "language": "python",
   "name": "python3"
  },
  "language_info": {
   "codemirror_mode": {
    "name": "ipython",
    "version": 3
   },
   "file_extension": ".py",
   "mimetype": "text/x-python",
   "name": "python",
   "nbconvert_exporter": "python",
   "pygments_lexer": "ipython3",
   "version": "3.11.2"
  }
 },
 "nbformat": 4,
 "nbformat_minor": 5
}

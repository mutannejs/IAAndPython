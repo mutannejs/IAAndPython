{
 "cells": [
  {
   "cell_type": "code",
   "execution_count": null,
   "id": "d2aa42bd",
   "metadata": {},
   "outputs": [],
   "source": [
    "\"\"\"\n",
    "Como usar numpy\n",
    "É um pacote para operações matemáticas\n",
    "Bastante usado na criação de martizes\n",
    "\"\"\""
   ]
  },
  {
   "cell_type": "code",
   "execution_count": 3,
   "id": "1ffaaa7c",
   "metadata": {},
   "outputs": [],
   "source": [
    "# importa numpy é dá um apelido como np\n",
    "import numpy as np\n",
    "\n",
    "# array é como uma lista com restrições: do elemento é do mesmo tipo\n",
    "a = np.array([1, 2, 3])"
   ]
  },
  {
   "cell_type": "code",
   "execution_count": 4,
   "id": "6a62b435",
   "metadata": {},
   "outputs": [
    {
     "name": "stdout",
     "output_type": "stream",
     "text": [
      "[1 2 3]\n"
     ]
    }
   ],
   "source": [
    "print(a)"
   ]
  },
  {
   "cell_type": "code",
   "execution_count": 5,
   "id": "c3788028",
   "metadata": {},
   "outputs": [
    {
     "name": "stdout",
     "output_type": "stream",
     "text": [
      "[[1 2 3]\n",
      " [6 1 9]\n",
      " [4 6 5]]\n"
     ]
    }
   ],
   "source": [
    "# [()] cria um array com duas dimensões\n",
    "b = np.array([(1, 2, 3), (6, 1, 9), (4, 6, 5)])\n",
    "print(b)"
   ]
  },
  {
   "cell_type": "code",
   "execution_count": 8,
   "id": "d75f114e",
   "metadata": {},
   "outputs": [
    {
     "name": "stdout",
     "output_type": "stream",
     "text": [
      "[[0. 0. 0.]\n",
      " [0. 0. 0.]\n",
      " [0. 0. 0.]\n",
      " [0. 0. 0.]]\n",
      "[[1. 1. 1. 1.]\n",
      " [1. 1. 1. 1.]\n",
      " [1. 1. 1. 1.]]\n",
      "[[1. 0. 0. 0.]\n",
      " [0. 1. 0. 0.]\n",
      " [0. 0. 1. 0.]\n",
      " [0. 0. 0. 1.]]\n"
     ]
    }
   ],
   "source": [
    "# cria uma matriz 4x3 com apenas zeros\n",
    "c = np.zeros((4, 3))\n",
    "print(c)\n",
    "# cria uma matriz 3x4 com apenas zeros\n",
    "c = np.ones((3, 4))\n",
    "print(c)\n",
    "# cria uma matriz identidade de lado 4\n",
    "c = np.eye(4)\n",
    "print(c)"
   ]
  },
  {
   "cell_type": "code",
   "execution_count": 12,
   "id": "f2751bc4",
   "metadata": {},
   "outputs": [
    {
     "name": "stdout",
     "output_type": "stream",
     "text": [
      "9\n",
      "1\n",
      "37\n",
      "4.111111111111111\n",
      "2.5141574442188355\n"
     ]
    }
   ],
   "source": [
    "print(b.max())\n",
    "print(b.min())\n",
    "print(b.sum()) # soma todos elementos\n",
    "print(b.mean()) # média\n",
    "print(b.std()) # desvio padrão"
   ]
  },
  {
   "cell_type": "code",
   "execution_count": null,
   "id": "0722aa19",
   "metadata": {},
   "outputs": [],
   "source": []
  }
 ],
 "metadata": {
  "kernelspec": {
   "display_name": "Python 3 (ipykernel)",
   "language": "python",
   "name": "python3"
  },
  "language_info": {
   "codemirror_mode": {
    "name": "ipython",
    "version": 3
   },
   "file_extension": ".py",
   "mimetype": "text/x-python",
   "name": "python",
   "nbconvert_exporter": "python",
   "pygments_lexer": "ipython3",
   "version": "3.11.2"
  }
 },
 "nbformat": 4,
 "nbformat_minor": 5
}

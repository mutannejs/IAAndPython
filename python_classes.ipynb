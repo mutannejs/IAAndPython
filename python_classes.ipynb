{
 "cells": [
  {
   "cell_type": "code",
   "execution_count": 4,
   "id": "3bf6c7df",
   "metadata": {},
   "outputs": [],
   "source": [
    "# self deve ser usada na criação de uma função dentro\n",
    "#    de uma classe (método)\n",
    "class PrimeiraClassePython:\n",
    "    def incrementa(self, v, i):\n",
    "        valor = v\n",
    "        incremento = i\n",
    "        resultado = valor + incremento\n",
    "        return resultado"
   ]
  },
  {
   "cell_type": "code",
   "execution_count": 5,
   "id": "db3e24ee",
   "metadata": {},
   "outputs": [
    {
     "name": "stdout",
     "output_type": "stream",
     "text": [
      "<class '__main__.PrimeiraClassePython'>\n"
     ]
    }
   ],
   "source": [
    "# istancia um objeto da classe criada\n",
    "a = PrimeiraClassePython()\n",
    "print(type(a))"
   ]
  },
  {
   "cell_type": "code",
   "execution_count": 6,
   "id": "69072fc9",
   "metadata": {},
   "outputs": [
    {
     "ename": "AttributeError",
     "evalue": "'PrimeiraClassePython' object has no attribute 'valor'",
     "output_type": "error",
     "traceback": [
      "\u001b[0;31m---------------------------------------------------------------------------\u001b[0m",
      "\u001b[0;31mAttributeError\u001b[0m                            Traceback (most recent call last)",
      "Cell \u001b[0;32mIn[6], line 2\u001b[0m\n\u001b[1;32m      1\u001b[0m \u001b[38;5;66;03m# valor é apenas uma variável local do método incrementa\u001b[39;00m\n\u001b[0;32m----> 2\u001b[0m \u001b[38;5;28mprint\u001b[39m(\u001b[43ma\u001b[49m\u001b[38;5;241;43m.\u001b[39;49m\u001b[43mvalor\u001b[49m)\n",
      "\u001b[0;31mAttributeError\u001b[0m: 'PrimeiraClassePython' object has no attribute 'valor'"
     ]
    }
   ],
   "source": [
    "# valor é apenas uma variável local do método incrementa\n",
    "print(a.valor)"
   ]
  },
  {
   "cell_type": "code",
   "execution_count": 7,
   "id": "1d51534c",
   "metadata": {},
   "outputs": [
    {
     "name": "stdout",
     "output_type": "stream",
     "text": [
      "11\n"
     ]
    }
   ],
   "source": [
    "b = a.incrementa(10, 1)\n",
    "print(b)"
   ]
  },
  {
   "cell_type": "code",
   "execution_count": 8,
   "id": "df69526d",
   "metadata": {},
   "outputs": [],
   "source": [
    "# self deve ser usada na criação de uma função dentro\n",
    "#    de uma classe (método) para que o método possa ser usado a partir\n",
    "#    do objeto e não da classe\n",
    "# as variáveis com self. passam a ser atributos do objeto, e referenciam\n",
    "#    a eles\n",
    "class SegundaClassePython:\n",
    "    def incrementa(self, v, i):\n",
    "        self.valor = v\n",
    "        self.incremento = i\n",
    "        self.resultado = self.valor + self.incremento\n",
    "        return self.resultado"
   ]
  },
  {
   "cell_type": "code",
   "execution_count": 9,
   "id": "550e5e96",
   "metadata": {},
   "outputs": [],
   "source": [
    "a = SegundaClassePython()\n",
    "b = a.incrementa(10, 2)"
   ]
  },
  {
   "cell_type": "code",
   "execution_count": 10,
   "id": "315199a6",
   "metadata": {},
   "outputs": [
    {
     "name": "stdout",
     "output_type": "stream",
     "text": [
      "10\n"
     ]
    }
   ],
   "source": [
    "print(a.valor)"
   ]
  },
  {
   "cell_type": "code",
   "execution_count": 11,
   "id": "2ed80877",
   "metadata": {},
   "outputs": [],
   "source": [
    "# __init__ é um construtor\n",
    "class TerceiraClassePython:\n",
    "    def __init__(self, v, i):\n",
    "        self.valor = v\n",
    "        self.incremento = i\n",
    "    def incrementa(self):\n",
    "        self.valor += self.incremento"
   ]
  },
  {
   "cell_type": "code",
   "execution_count": 12,
   "id": "1e660c58",
   "metadata": {},
   "outputs": [
    {
     "name": "stdout",
     "output_type": "stream",
     "text": [
      "10\n",
      "11\n",
      "12\n"
     ]
    }
   ],
   "source": [
    "a = TerceiraClassePython(10, 1)\n",
    "print(a.valor)\n",
    "a.incrementa()\n",
    "print(a.valor)\n",
    "a.incrementa()\n",
    "print(a.valor)"
   ]
  },
  {
   "cell_type": "code",
   "execution_count": 13,
   "id": "91266f0c",
   "metadata": {},
   "outputs": [],
   "source": [
    "# __init__ é um construtor\n",
    "# v=10 e i=1 são valores default, caso não seja passado valores para eles\n",
    "class QuartaClassePython:\n",
    "    def __init__(self, v=10, i=1):\n",
    "        self.valor = v\n",
    "        self.incremento = i\n",
    "    def incrementa(self):\n",
    "        self.valor += self.incremento"
   ]
  },
  {
   "cell_type": "code",
   "execution_count": 14,
   "id": "73f60ab3",
   "metadata": {},
   "outputs": [
    {
     "name": "stdout",
     "output_type": "stream",
     "text": [
      "21\n"
     ]
    }
   ],
   "source": [
    "a = QuartaClassePython(20)\n",
    "a.incrementa()\n",
    "print(a.valor)"
   ]
  },
  {
   "cell_type": "code",
   "execution_count": 15,
   "id": "ee561443",
   "metadata": {},
   "outputs": [
    {
     "data": {
      "text/plain": [
       "'\\n    método = comportamento\\n    atributo = estado\\n'"
      ]
     },
     "execution_count": 15,
     "metadata": {},
     "output_type": "execute_result"
    }
   ],
   "source": [
    "\"\"\"\n",
    "    método = comportamento\n",
    "    atributo = estado\n",
    "\"\"\""
   ]
  },
  {
   "cell_type": "code",
   "execution_count": 16,
   "id": "5630e6bc",
   "metadata": {},
   "outputs": [],
   "source": [
    "# herança\n",
    "#   a superclasse é citada dentro do ()\n",
    "#   pass informa qua a classe filha não terá nada a mais\n",
    "class Calculos(QuartaClassePython):\n",
    "    pass"
   ]
  },
  {
   "cell_type": "code",
   "execution_count": 17,
   "id": "5114c0e1",
   "metadata": {},
   "outputs": [
    {
     "name": "stdout",
     "output_type": "stream",
     "text": [
      "15\n"
     ]
    }
   ],
   "source": [
    "# passa um valor para i mas não para v\n",
    "c = Calculos(i=5)\n",
    "c.incrementa()\n",
    "print(c.valor)"
   ]
  },
  {
   "cell_type": "code",
   "execution_count": 18,
   "id": "7e32f790",
   "metadata": {},
   "outputs": [],
   "source": [
    "# Cria uma classe herdada de QuartaClassePython mas adiciona um método\n",
    "class Calculos2(QuartaClassePython):\n",
    "    def decrementa(self):\n",
    "        self.valor -= self.incremento"
   ]
  },
  {
   "cell_type": "code",
   "execution_count": 19,
   "id": "e6017366",
   "metadata": {},
   "outputs": [
    {
     "name": "stdout",
     "output_type": "stream",
     "text": [
      "5\n"
     ]
    }
   ],
   "source": [
    "c = Calculos2(i=5)\n",
    "c.decrementa()\n",
    "print(c.valor)"
   ]
  },
  {
   "cell_type": "code",
   "execution_count": 20,
   "id": "3610d0a3",
   "metadata": {},
   "outputs": [],
   "source": [
    "# Cria uma classe herdada de QuartaClassePython mas modifica o construtor\n",
    "#    e adiciona dois métodos DE FORMA ERRADA\n",
    "class Calculos3(QuartaClassePython):\n",
    "    def __init__(seld, d=5):\n",
    "        seld.divisor = d\n",
    "    def decrementa(self):\n",
    "        self.valor -= self.incremento\n",
    "    def divide(self):\n",
    "        self.valor = self.valor / self.divisor"
   ]
  },
  {
   "cell_type": "code",
   "execution_count": 21,
   "id": "1f6d5f28",
   "metadata": {},
   "outputs": [
    {
     "ename": "AttributeError",
     "evalue": "'Calculos3' object has no attribute 'valor'",
     "output_type": "error",
     "traceback": [
      "\u001b[0;31m---------------------------------------------------------------------------\u001b[0m",
      "\u001b[0;31mAttributeError\u001b[0m                            Traceback (most recent call last)",
      "Cell \u001b[0;32mIn[21], line 2\u001b[0m\n\u001b[1;32m      1\u001b[0m c \u001b[38;5;241m=\u001b[39m Calculos3()\n\u001b[0;32m----> 2\u001b[0m \u001b[43mc\u001b[49m\u001b[38;5;241;43m.\u001b[39;49m\u001b[43mincrementa\u001b[49m\u001b[43m(\u001b[49m\u001b[43m)\u001b[49m \u001b[38;5;66;03m#essa linha retorna erro porque self.valor e\u001b[39;00m\n\u001b[1;32m      3\u001b[0m \u001b[38;5;66;03m#   self.incremento não forão criados anteriormente, isso porque o\u001b[39;00m\n\u001b[1;32m      4\u001b[0m \u001b[38;5;66;03m#   método __init__ foi sobreescrto\u001b[39;00m\n\u001b[1;32m      5\u001b[0m \u001b[38;5;66;03m#   para solucionar esse erro deve-se chamar o construtor da classe\u001b[39;00m\n\u001b[1;32m      6\u001b[0m \u001b[38;5;66;03m#   pai em __init__ chamando o método __init__ da classe super\u001b[39;00m\n",
      "Cell \u001b[0;32mIn[13], line 8\u001b[0m, in \u001b[0;36mQuartaClassePython.incrementa\u001b[0;34m(self)\u001b[0m\n\u001b[1;32m      7\u001b[0m \u001b[38;5;28;01mdef\u001b[39;00m \u001b[38;5;21mincrementa\u001b[39m(\u001b[38;5;28mself\u001b[39m):\n\u001b[0;32m----> 8\u001b[0m     \u001b[38;5;28;43mself\u001b[39;49m\u001b[38;5;241;43m.\u001b[39;49m\u001b[43mvalor\u001b[49m \u001b[38;5;241m+\u001b[39m\u001b[38;5;241m=\u001b[39m \u001b[38;5;28mself\u001b[39m\u001b[38;5;241m.\u001b[39mincremento\n",
      "\u001b[0;31mAttributeError\u001b[0m: 'Calculos3' object has no attribute 'valor'"
     ]
    }
   ],
   "source": [
    "c = Calculos3()\n",
    "c.incrementa() #essa linha retorna erro porque self.valor e\n",
    "#   self.incremento não forão criados anteriormente, isso porque o\n",
    "#   método __init__ foi sobreescrto\n",
    "#   para solucionar esse erro deve-se chamar o construtor da classe\n",
    "#   pai em __init__ chamando o método __init__ da classe super"
   ]
  },
  {
   "cell_type": "code",
   "execution_count": 22,
   "id": "27f0d54c",
   "metadata": {},
   "outputs": [],
   "source": [
    "# Cria uma classe herdada de QuartaClassePython mas modifica o construtor\n",
    "#    e adiciona dois métodos DE FORMA CORRETA\n",
    "class Calculos3(QuartaClassePython):\n",
    "    def __init__(seld, d=5):\n",
    "        super().__init__()\n",
    "        seld.divisor = d\n",
    "    def decrementa(self):\n",
    "        self.valor -= self.incremento\n",
    "    def divide(self):\n",
    "        self.valor = self.valor / self.divisor"
   ]
  },
  {
   "cell_type": "code",
   "execution_count": 23,
   "id": "7e2c5483",
   "metadata": {},
   "outputs": [
    {
     "name": "stdout",
     "output_type": "stream",
     "text": [
      "11\n"
     ]
    }
   ],
   "source": [
    "c = Calculos3()\n",
    "c.incrementa()\n",
    "print(c.valor)"
   ]
  },
  {
   "cell_type": "code",
   "execution_count": null,
   "id": "c636c15d",
   "metadata": {},
   "outputs": [],
   "source": []
  }
 ],
 "metadata": {
  "kernelspec": {
   "display_name": "Python 3 (ipykernel)",
   "language": "python",
   "name": "python3"
  },
  "language_info": {
   "codemirror_mode": {
    "name": "ipython",
    "version": 3
   },
   "file_extension": ".py",
   "mimetype": "text/x-python",
   "name": "python",
   "nbconvert_exporter": "python",
   "pygments_lexer": "ipython3",
   "version": "3.11.2"
  }
 },
 "nbformat": 4,
 "nbformat_minor": 5
}

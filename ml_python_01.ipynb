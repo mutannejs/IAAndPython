{
 "cells": [
  {
   "cell_type": "code",
   "execution_count": 4,
   "id": "e4d263a7",
   "metadata": {},
   "outputs": [
    {
     "name": "stdout",
     "output_type": "stream",
     "text": [
      "<class 'list'>\n",
      "[1, 2, 3]\n",
      "2\n"
     ]
    }
   ],
   "source": [
    "lista1 = [[1, 2, 3], [4, 5, 6], [7, 8, 9]]\n",
    "print(type(lista1))\n",
    "print(lista1[0])\n",
    "print(lista1[0][1])"
   ]
  },
  {
   "cell_type": "code",
   "execution_count": 8,
   "id": "864ba775",
   "metadata": {},
   "outputs": [
    {
     "name": "stdout",
     "output_type": "stream",
     "text": [
      "Sorocaba\n"
     ]
    }
   ],
   "source": [
    "import random\n",
    "cidades = ['São Paulo', 'Rio de Janeiro', 'Sorocaba', 'Salto']\n",
    "escolhida = random.choice(cidades) # escolhe um elemento aleatoriamente da lista\n",
    "print(escolhida)"
   ]
  },
  {
   "cell_type": "code",
   "execution_count": 3,
   "id": "aa3e719f",
   "metadata": {},
   "outputs": [
    {
     "name": "stdout",
     "output_type": "stream",
     "text": [
      "[1, 2, 3]\n",
      "[1, 3, 4, 5]\n"
     ]
    }
   ],
   "source": [
    "a = [1, 2, 3]\n",
    "print(a)\n",
    "a.append(4)\n",
    "a.append(5)\n",
    "del a[1]\n",
    "print(a)"
   ]
  },
  {
   "cell_type": "code",
   "execution_count": 2,
   "id": "c895db68",
   "metadata": {},
   "outputs": [
    {
     "name": "stdout",
     "output_type": "stream",
     "text": [
      "[2.0, 4.0, 10.0, 6.0]\n"
     ]
    }
   ],
   "source": [
    "# Exercício\n",
    "x = [2, 4, 10, 6]\n",
    "y = []\n",
    "for i in x :\n",
    "    y.append(float(i))\n",
    "print(y)"
   ]
  },
  {
   "cell_type": "code",
   "execution_count": null,
   "id": "640ce0db",
   "metadata": {},
   "outputs": [],
   "source": []
  }
 ],
 "metadata": {
  "kernelspec": {
   "display_name": "Python 3 (ipykernel)",
   "language": "python",
   "name": "python3"
  },
  "language_info": {
   "codemirror_mode": {
    "name": "ipython",
    "version": 3
   },
   "file_extension": ".py",
   "mimetype": "text/x-python",
   "name": "python",
   "nbconvert_exporter": "python",
   "pygments_lexer": "ipython3",
   "version": "3.11.2"
  }
 },
 "nbformat": 4,
 "nbformat_minor": 5
}

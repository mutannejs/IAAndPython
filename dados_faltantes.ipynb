{
 "cells": [
  {
   "cell_type": "code",
   "execution_count": null,
   "id": "bce77db2",
   "metadata": {},
   "outputs": [],
   "source": [
    "import pandas as pd\n",
    "\n",
    "dados = pd.read_csv('athlete_events.csv')\n",
    "\n",
    "print(dados.shape)\n",
    "dados.head()"
   ]
  },
  {
   "cell_type": "code",
   "execution_count": null,
   "id": "1f6efa91",
   "metadata": {},
   "outputs": [],
   "source": [
    "# exclui todas as linhas que tenham algum dado faltante\n",
    "dados2 = dados.dropna()\n",
    "\n",
    "print(dados2.shape)\n",
    "dados2.head()"
   ]
  },
  {
   "cell_type": "code",
   "execution_count": null,
   "id": "2b077afe",
   "metadata": {},
   "outputs": [],
   "source": [
    "# cria um novo dataframe informando se aquele dado é nulo no dataframe\n",
    "#   usado, com \"True\" (é nulo) ou \"False\" em todas as céluas\n",
    "ehnulo = dados.isnull()\n",
    "ehnulo.head()"
   ]
  },
  {
   "cell_type": "code",
   "execution_count": null,
   "id": "0fcf0884",
   "metadata": {},
   "outputs": [],
   "source": [
    "# vai somar todos valores positivos para cada coluna\n",
    "faltantes = dados.isnull().sum()\n",
    "print(faltantes, '\\n')\n",
    "\n",
    "faltantes_percentual = (dados.isnull().sum() / len(dados['ID']))*100\n",
    "print(faltantes_percentual)"
   ]
  },
  {
   "cell_type": "code",
   "execution_count": null,
   "id": "d913536f",
   "metadata": {},
   "outputs": [],
   "source": [
    "# Substitui os dados faltantes de uma coluna\n",
    "\n",
    "dados['Medal'].fillna('Nenhuma', inplace=True)\n",
    "dados['Age'].fillna(dados['Age'].mean(), inplace=True)\n",
    "dados['Height'].fillna(dados['Height'].mean(), inplace=True)\n",
    "dados['Weight'].fillna(dados['Weight'].mean(), inplace=True)\n",
    "dados.head(20)"
   ]
  },
  {
   "cell_type": "code",
   "execution_count": null,
   "id": "3e732902",
   "metadata": {},
   "outputs": [],
   "source": [
    "faltantes = dados.isnull().sum()\n",
    "print(faltantes)"
   ]
  },
  {
   "cell_type": "code",
   "execution_count": null,
   "id": "4e72f535",
   "metadata": {},
   "outputs": [],
   "source": []
  }
 ],
 "metadata": {
  "kernelspec": {
   "display_name": "Python 3 (ipykernel)",
   "language": "python",
   "name": "python3"
  },
  "language_info": {
   "codemirror_mode": {
    "name": "ipython",
    "version": 3
   },
   "file_extension": ".py",
   "mimetype": "text/x-python",
   "name": "python",
   "nbconvert_exporter": "python",
   "pygments_lexer": "ipython3",
   "version": "3.11.2"
  }
 },
 "nbformat": 4,
 "nbformat_minor": 5
}

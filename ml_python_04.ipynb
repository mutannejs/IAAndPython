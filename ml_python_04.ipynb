{
 "cells": [
  {
   "cell_type": "code",
   "execution_count": null,
   "id": "9643b194",
   "metadata": {},
   "outputs": [],
   "source": [
    "#\n",
    "# Função Lambda\n",
    "# função resumida de criar uma função - uma função anônima"
   ]
  },
  {
   "cell_type": "code",
   "execution_count": 3,
   "id": "73513935",
   "metadata": {},
   "outputs": [
    {
     "name": "stdout",
     "output_type": "stream",
     "text": [
      "13\n"
     ]
    }
   ],
   "source": [
    "def somaQuadrados(a, b) :\n",
    "    somaQ = a**2 + b**2\n",
    "    return somaQ\n",
    "print(somaQuadrados(2, 3))"
   ]
  },
  {
   "cell_type": "code",
   "execution_count": 5,
   "id": "8ba3ff28",
   "metadata": {},
   "outputs": [
    {
     "name": "stdout",
     "output_type": "stream",
     "text": [
      "13\n"
     ]
    }
   ],
   "source": [
    "somaQuadrados2 = lambda a, b : a**2 + b**2\n",
    "print(somaQuadrados2(2, 3))"
   ]
  },
  {
   "cell_type": "code",
   "execution_count": null,
   "id": "f34be446",
   "metadata": {},
   "outputs": [],
   "source": []
  }
 ],
 "metadata": {
  "kernelspec": {
   "display_name": "Python 3 (ipykernel)",
   "language": "python",
   "name": "python3"
  },
  "language_info": {
   "codemirror_mode": {
    "name": "ipython",
    "version": 3
   },
   "file_extension": ".py",
   "mimetype": "text/x-python",
   "name": "python",
   "nbconvert_exporter": "python",
   "pygments_lexer": "ipython3",
   "version": "3.11.2"
  }
 },
 "nbformat": 4,
 "nbformat_minor": 5
}

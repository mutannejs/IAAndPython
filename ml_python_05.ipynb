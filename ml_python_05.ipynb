{
 "cells": [
  {
   "cell_type": "code",
   "execution_count": null,
   "id": "c550633c",
   "metadata": {},
   "outputs": [],
   "source": [
    "#\n",
    "# função map()\n",
    "# aplica um conjunto de dados à uma função. Para não varrer elemento\n",
    "#    por elemento com o for\n",
    "# map( lambda, conju. de dados )"
   ]
  },
  {
   "cell_type": "code",
   "execution_count": 1,
   "id": "3455eff0",
   "metadata": {},
   "outputs": [],
   "source": [
    "kph = [40, 50, 60, 75, 80, 99, 200] # lista de kilometros por hora"
   ]
  },
  {
   "cell_type": "code",
   "execution_count": 5,
   "id": "a95eccbe",
   "metadata": {},
   "outputs": [
    {
     "name": "stdout",
     "output_type": "stream",
     "text": [
      "[24.844720496894407, 31.05590062111801, 37.267080745341616, 46.58385093167701, 49.689440993788814, 61.49068322981366, 124.22360248447204]\n"
     ]
    }
   ],
   "source": [
    "# transformando em Milhas por hora\n",
    "mph = list(map(lambda x : x/1.61, kph))\n",
    "print(mph)"
   ]
  },
  {
   "cell_type": "code",
   "execution_count": null,
   "id": "efda36b4",
   "metadata": {},
   "outputs": [],
   "source": [
    "#\n",
    "# List Comprehension\n",
    "# transforma uma estrutura em lista usando uma função\n",
    "# Pode-se entender como atalho para list(map())\n",
    "# função    onde é aplicada (em quais dados)"
   ]
  },
  {
   "cell_type": "code",
   "execution_count": 7,
   "id": "79081d63",
   "metadata": {},
   "outputs": [
    {
     "name": "stdout",
     "output_type": "stream",
     "text": [
      "[24.844720496894407, 31.05590062111801, 37.267080745341616, 46.58385093167701, 49.689440993788814, 61.49068322981366, 124.22360248447204]\n"
     ]
    }
   ],
   "source": [
    "mph2 = [x/1.61 for x in kph]\n",
    "print(mph2)"
   ]
  },
  {
   "cell_type": "code",
   "execution_count": 10,
   "id": "61d934bc",
   "metadata": {},
   "outputs": [
    {
     "name": "stdout",
     "output_type": "stream",
     "text": [
      "['U', 's', 'e', ' ', 'L', 'u', 'o', 'f']\n"
     ]
    }
   ],
   "source": [
    "caracteres = [i for i in 'Use Luof']\n",
    "print(caracteres)"
   ]
  },
  {
   "cell_type": "code",
   "execution_count": null,
   "id": "c8a16520",
   "metadata": {},
   "outputs": [],
   "source": []
  }
 ],
 "metadata": {
  "kernelspec": {
   "display_name": "Python 3 (ipykernel)",
   "language": "python",
   "name": "python3"
  },
  "language_info": {
   "codemirror_mode": {
    "name": "ipython",
    "version": 3
   },
   "file_extension": ".py",
   "mimetype": "text/x-python",
   "name": "python",
   "nbconvert_exporter": "python",
   "pygments_lexer": "ipython3",
   "version": "3.11.2"
  }
 },
 "nbformat": 4,
 "nbformat_minor": 5
}

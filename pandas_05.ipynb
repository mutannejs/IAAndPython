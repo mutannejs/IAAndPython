{
 "cells": [
  {
   "cell_type": "code",
   "execution_count": 1,
   "id": "c9e4f30c",
   "metadata": {},
   "outputs": [],
   "source": [
    "import pandas as pd\n",
    "import matplotlib.pyplot as plt\n",
    "\n",
    "dados = pd.read_csv('athlete_events.csv')"
   ]
  },
  {
   "cell_type": "code",
   "execution_count": 2,
   "id": "3316cb40",
   "metadata": {},
   "outputs": [
    {
     "data": {
      "text/plain": [
       "'\\n\\n    Percentil - usar porcentagem\\n        menores valores\\n        Estratificação dos dados de um conjunto em 100 partes\\n        Ex: percentil 90 = valores a baixo de 90%\\n\\n    Quartil - divide o conjunto em 4 partes\\n        Q1 = 25%   percentil 25\\n        Q2 = 50%   percentil 50\\n        Q3 = 75%   percentil 75\\n\\n    Para calcular o quartil basta achar a mediana daquele quartil\\n    Ex: para [13, 17, 25, 28, 33, 41, 65, 69, 72]\\n                    Q1        Q2        Q3\\n                            mediana\\n\\n        Temos  Q1 = mediana(13, 25, 69, 72) = 21\\n               Q2 = 33\\n               Q1 = mediana(41, 65, 69, 72) = 67\\n\\n\\n     === Box Plot ===\\n\\n    Amplitude Inter Quartil = Q3 - Q1\\n\\n    Limite superior = Q3 + 1.5*AIQ\\n    Limite inferior = Q1 - 1.5*AIQ\\n\\n    Outliers são pontos a cima e a baixo dos limites\\n\\n       _                limite superior\\n       |\\n       |\\n    ________            quartil 3\\n    |      |\\n    |      |\\n    ________            mediana\\n    |      |\\n    |      |\\n    |      |\\n    ________            quartil 1\\n       |\\n       |\\n       _                limite inferior\\n       *                outlier (menor que limite inferior)\\n\\n'"
      ]
     },
     "execution_count": 2,
     "metadata": {},
     "output_type": "execute_result"
    }
   ],
   "source": [
    "\"\"\"\n",
    "\n",
    "    Percentil - usar porcentagem\n",
    "        menores valores\n",
    "        Estratificação dos dados de um conjunto em 100 partes\n",
    "        Ex: percentil 90 = valores a baixo de 90%\n",
    "\n",
    "    Quartil - divide o conjunto em 4 partes\n",
    "        Q1 = 25%   percentil 25\n",
    "        Q2 = 50%   percentil 50\n",
    "        Q3 = 75%   percentil 75\n",
    "\n",
    "    Para calcular o quartil basta achar a mediana daquele quartil\n",
    "    Ex: para [13, 17, 25, 28, 33, 41, 65, 69, 72]\n",
    "                    Q1        Q2        Q3\n",
    "                            mediana\n",
    "\n",
    "        Temos  Q1 = mediana(13, 25, 69, 72) = 21\n",
    "               Q2 = 33\n",
    "               Q1 = mediana(41, 65, 69, 72) = 67\n",
    "\n",
    "\n",
    "     === Box Plot ===\n",
    "\n",
    "    Amplitude Inter Quartil = Q3 - Q1\n",
    "\n",
    "    Limite superior = Q3 + 1.5*AIQ\n",
    "    Limite inferior = Q1 - 1.5*AIQ\n",
    "\n",
    "    Outliers são pontos a cima e a baixo dos limites\n",
    "\n",
    "       _                limite superior\n",
    "       |\n",
    "       |\n",
    "    ________            quartil 3\n",
    "    |      |\n",
    "    |      |\n",
    "    ________            mediana\n",
    "    |      |\n",
    "    |      |\n",
    "    |      |\n",
    "    ________            quartil 1\n",
    "       |\n",
    "       |\n",
    "       _                limite inferior\n",
    "       *                outlier (menor que limite inferior)\n",
    "\n",
    "\"\"\""
   ]
  },
  {
   "cell_type": "code",
   "execution_count": 4,
   "id": "9a5dc44b",
   "metadata": {},
   "outputs": [
    {
     "data": {
      "image/png": "[encoded data removed]",
      "text/plain": [
       "<Figure size 640x480 with 1 Axes>"
      ]
     },
     "metadata": {},
     "output_type": "display_data"
    }
   ],
   "source": [
    "# cria um boxplot\n",
    "dados.boxplot(column = ['Age', 'Height', 'Weight'])\n",
    "plt.show()"
   ]
  },
  {
   "cell_type": "code",
   "execution_count": null,
   "id": "d0054ada",
   "metadata": {},
   "outputs": [],
   "source": []
  }
 ],
 "metadata": {
  "kernelspec": {
   "display_name": "Python 3 (ipykernel)",
   "language": "python",
   "name": "python3"
  },
  "language_info": {
   "codemirror_mode": {
    "name": "ipython",
    "version": 3
   },
   "file_extension": ".py",
   "mimetype": "text/x-python",
   "name": "python",
   "nbconvert_exporter": "python",
   "pygments_lexer": "ipython3",
   "version": "3.11.2"
  }
 },
 "nbformat": 4,
 "nbformat_minor": 5
}

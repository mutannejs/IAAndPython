{
 "cells": [
  {
   "cell_type": "code",
   "execution_count": 2,
   "id": "298238a4",
   "metadata": {},
   "outputs": [
    {
     "name": "stdout",
     "output_type": "stream",
     "text": [
      "      Nome  Nota Aprovado\n",
      "0  Ricardo   4.5      Não\n",
      "1    Pedro   7.0      Sim\n",
      "2  Roberto   5.5      Não\n",
      "3   Carlos   9.0      Sim\n"
     ]
    }
   ],
   "source": [
    "import pandas as pd\n",
    "\n",
    "alunosDic = {'Nome' : ['Ricardo', 'Pedro', 'Roberto', 'Carlos'],\n",
    "         'Nota' : [4.5, 7, 5.5, 9],\n",
    "         'Aprovado' : ['Não', 'Sim', 'Não', 'Sim']}\n",
    "\n",
    "# cria um dataframe a partir de um dicionario\n",
    "alunosDF = pd.DataFrame(alunosDic)\n",
    "print(alunosDF)"
   ]
  },
  {
   "cell_type": "code",
   "execution_count": 7,
   "id": "8773958a",
   "metadata": {},
   "outputs": [
    {
     "name": "stdout",
     "output_type": "stream",
     "text": [
      "(4, 3) \n",
      "\n",
      "          Nota\n",
      "count  4.00000\n",
      "mean   6.50000\n",
      "std    1.95789\n",
      "min    4.50000\n",
      "25%    5.25000\n",
      "50%    6.25000\n",
      "75%    7.50000\n",
      "max    9.00000 \n",
      "\n"
     ]
    }
   ],
   "source": [
    "# informa as dimensões do dataframe - é um atributo\n",
    "print(alunosDF.shape, '\\n')\n",
    "# dá várias informações sobre o dataframe\n",
    "print(alunosDF.describe(), '\\n')"
   ]
  },
  {
   "cell_type": "code",
   "execution_count": 13,
   "id": "f7733eef",
   "metadata": {},
   "outputs": [
    {
     "name": "stdout",
     "output_type": "stream",
     "text": [
      "0    Ricardo\n",
      "1      Pedro\n",
      "2    Roberto\n",
      "3     Carlos\n",
      "Name: Nome, dtype: object \n",
      "\n",
      "      Nome  Nota Aprovado\n",
      "0  Ricardo   4.5      Não \n",
      "\n",
      "      Nome  Nota Aprovado\n",
      "1    Pedro   7.0      Sim\n",
      "2  Roberto   5.5      Não \n",
      "\n"
     ]
    }
   ],
   "source": [
    "# Exibe dados apenas da primeira coluna (slace - fatiamento)\n",
    "print(alunosDF['Nome'], '\\n')\n",
    "\n",
    "# Exibe as linhas informdas (por meio de uma lista)\n",
    "print(alunosDF.loc[[0]], '\\n')\n",
    "print(alunosDF.loc[1 : 2], '\\n')"
   ]
  },
  {
   "cell_type": "code",
   "execution_count": 15,
   "id": "913666f0",
   "metadata": {},
   "outputs": [
    {
     "data": {
      "text/html": [
       "<div>\n",
       "<style scoped>\n",
       "    .dataframe tbody tr th:only-of-type {\n",
       "        vertical-align: middle;\n",
       "    }\n",
       "\n",
       "    .dataframe tbody tr th {\n",
       "        vertical-align: top;\n",
       "    }\n",
       "\n",
       "    .dataframe thead th {\n",
       "        text-align: right;\n",
       "    }\n",
       "</style>\n",
       "<table border=\"1\" class=\"dataframe\">\n",
       "  <thead>\n",
       "    <tr style=\"text-align: right;\">\n",
       "      <th></th>\n",
       "      <th>Nome</th>\n",
       "      <th>Nota</th>\n",
       "      <th>Aprovado</th>\n",
       "    </tr>\n",
       "  </thead>\n",
       "  <tbody>\n",
       "    <tr>\n",
       "      <th>1</th>\n",
       "      <td>Pedro</td>\n",
       "      <td>7.0</td>\n",
       "      <td>Sim</td>\n",
       "    </tr>\n",
       "    <tr>\n",
       "      <th>3</th>\n",
       "      <td>Carlos</td>\n",
       "      <td>9.0</td>\n",
       "      <td>Sim</td>\n",
       "    </tr>\n",
       "  </tbody>\n",
       "</table>\n",
       "</div>"
      ],
      "text/plain": [
       "     Nome  Nota Aprovado\n",
       "1   Pedro   7.0      Sim\n",
       "3  Carlos   9.0      Sim"
      ]
     },
     "execution_count": 15,
     "metadata": {},
     "output_type": "execute_result"
    }
   ],
   "source": [
    "# Exibe todas as linhas que o Nome seja Pedro\n",
    "alunosDF.loc[ alunosDF['Aprovado'] == 'Sim']"
   ]
  },
  {
   "cell_type": "code",
   "execution_count": null,
   "id": "80fb90f6",
   "metadata": {},
   "outputs": [],
   "source": [
    "#\n",
    "#\n",
    "#\n",
    "# Manipular linhas"
   ]
  },
  {
   "cell_type": "code",
   "execution_count": 18,
   "id": "c485f1b7",
   "metadata": {},
   "outputs": [
    {
     "name": "stdout",
     "output_type": "stream",
     "text": [
      "      Nome  Nota Aprovado\n",
      "0  Ricardo   4.5      Não\n",
      "1    Pedro   7.0      Sim\n",
      "2  Roberto   5.5      Não \n",
      "\n",
      "      Nome  Nota Aprovado\n",
      "0  Ricardo   4.5      Não\n",
      "1    Pedro   7.0      Sim\n",
      "2  Roberto   5.5      Não \n",
      "\n"
     ]
    }
   ],
   "source": [
    "# É interessante criar novos dataframes para não modificar o original\n",
    "\n",
    "primeirasL = alunosDF.loc[0 : 2]\n",
    "print(primeirasL, '\\n')\n",
    "\n",
    "novoDF = alunosDF.loc[alunosDF['Nota'] != 9]\n",
    "print(novoDF, '\\n')"
   ]
  },
  {
   "cell_type": "code",
   "execution_count": null,
   "id": "80bcf1a9",
   "metadata": {},
   "outputs": [],
   "source": []
  }
 ],
 "metadata": {
  "kernelspec": {
   "display_name": "Python 3 (ipykernel)",
   "language": "python",
   "name": "python3"
  },
  "language_info": {
   "codemirror_mode": {
    "name": "ipython",
    "version": 3
   },
   "file_extension": ".py",
   "mimetype": "text/x-python",
   "name": "python",
   "nbconvert_exporter": "python",
   "pygments_lexer": "ipython3",
   "version": "3.11.2"
  }
 },
 "nbformat": 4,
 "nbformat_minor": 5
}

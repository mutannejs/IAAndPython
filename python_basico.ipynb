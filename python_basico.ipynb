{
 "cells": [
  {
   "cell_type": "code",
   "execution_count": 1,
   "id": "eb075008",
   "metadata": {},
   "outputs": [],
   "source": [
    "# Aula 3 Didática Tech - Curso Python para Iniciantes"
   ]
  },
  {
   "cell_type": "code",
   "execution_count": 2,
   "id": "0b6d5e8b",
   "metadata": {},
   "outputs": [],
   "source": [
    "print('Hello World!')"
   ]
  },
  {
   "cell_type": "code",
   "execution_count": 3,
   "id": "cc8a7292",
   "metadata": {},
   "outputs": [],
   "source": [
    "print('Oi ' 'beleza?')"
   ]
  },
  {
   "cell_type": "code",
   "execution_count": 4,
   "id": "a65eeaf3",
   "metadata": {},
   "outputs": [],
   "source": [
    "print('Oi')\n",
    "print('Boa noite!')"
   ]
  },
  {
   "cell_type": "code",
   "execution_count": 5,
   "id": "af669b68",
   "metadata": {},
   "outputs": [],
   "source": [
    "#\n",
    "# Aula 4 Didática Tech - Curso Python para Iniciantes"
   ]
  },
  {
   "cell_type": "code",
   "execution_count": null,
   "id": "e80ec345",
   "metadata": {
    "scrolled": true
   },
   "outputs": [],
   "source": [
    "print('vezes', 2*5)\n",
    "print('potência', 2**5)\n",
    "print('real', 5/2)\n",
    "print('inteiro', 5//2)\n",
    "print('resto', 5%2)"
   ]
  },
  {
   "cell_type": "code",
   "execution_count": 1,
   "id": "1e8a25eb",
   "metadata": {},
   "outputs": [
    {
     "name": "stdout",
     "output_type": "stream",
     "text": [
      "True\n",
      "False\n",
      "True\n",
      "False\n"
     ]
    }
   ],
   "source": [
    "a = 5\n",
    "b = 6.7\n",
    "print(a == 5)\n",
    "print(a != 5)\n",
    "print(a < b)\n",
    "print(a > b)"
   ]
  },
  {
   "cell_type": "code",
   "execution_count": 8,
   "id": "c3342462",
   "metadata": {},
   "outputs": [],
   "source": [
    "#\n",
    "# Aula 5 Didática Tech - Curso Python para Iniciantes"
   ]
  },
  {
   "cell_type": "code",
   "execution_count": 9,
   "id": "553a297a",
   "metadata": {},
   "outputs": [],
   "source": [
    "c = 'isso é uma string'\n",
    "print(type(a))\n",
    "print(type(b))\n",
    "print(type(c))"
   ]
  },
  {
   "cell_type": "code",
   "execution_count": 10,
   "id": "94bbef68",
   "metadata": {},
   "outputs": [],
   "source": [
    "#\n",
    "# Aula 6 Didática Tech - Curso Python para Iniciantes"
   ]
  },
  {
   "cell_type": "code",
   "execution_count": null,
   "id": "7f6bce80",
   "metadata": {},
   "outputs": [],
   "source": [
    "nome = input('Qual o seu nome? ')\n",
    "print(nome)\n",
    "idade = int(input('Qual a sua idade? '))\n",
    "print(idade)"
   ]
  },
  {
   "cell_type": "code",
   "execution_count": null,
   "id": "07cb6f52",
   "metadata": {},
   "outputs": [],
   "source": [
    "#\n",
    "# Aula 7 Didática Tech - Curso Python para Iniciantes"
   ]
  },
  {
   "cell_type": "code",
   "execution_count": null,
   "id": "37b9eee2",
   "metadata": {},
   "outputs": [],
   "source": [
    "fruta = 'laranja'\n",
    "fruta2 = 'limão'\n",
    "print('Suco de {} é meu favorito'.format(fruta))\n",
    "print('Suco de {1} e {0} são meus favoritos'.format(fruta, fruta2))\n",
    "print('Resultado: {:.3f}'.format(17/3))"
   ]
  },
  {
   "cell_type": "code",
   "execution_count": null,
   "id": "e243a14c",
   "metadata": {},
   "outputs": [],
   "source": [
    "#\n",
    "# Aula 8 Didática Tech - Curso Python para Iniciantes"
   ]
  },
  {
   "cell_type": "code",
   "execution_count": 25,
   "id": "e7b229db",
   "metadata": {},
   "outputs": [
    {
     "name": "stdout",
     "output_type": "stream",
     "text": [
      "Não coma!\n"
     ]
    }
   ],
   "source": [
    "comida = 'picles'\n",
    "if comida == 'pizza' :\n",
    "    print('Eh pizza')\n",
    "elif comida == 'alface' or comida == 'picles':\n",
    "    print('Não coma!')\n",
    "else:\n",
    "    print('não eh pizza')"
   ]
  },
  {
   "cell_type": "code",
   "execution_count": 18,
   "id": "d0a48733",
   "metadata": {},
   "outputs": [
    {
     "name": "stdout",
     "output_type": "stream",
     "text": [
      "Que ano você nasceu? 2003\n",
      "Você tem 20 anos\n",
      "Você é um adulto\n"
     ]
    }
   ],
   "source": [
    "# Exercício 01\n",
    "from datetime import date # importa o módulo date da biblioteca datetime\n",
    "# poderia-se usar\n",
    "# import datetime - datetime é uma biblioteca\n",
    "# datetime.date.today()\n",
    "data_atual = date.today() # today() é uma função\n",
    "ano_nasc = int(input('Que ano você nasceu? '))\n",
    "idade = data_atual.year - ano_nasc # year é um atributo de date\n",
    "print('Você tem {} anos'.format(idade))\n",
    "if idade >= 18 :\n",
    "    print('Você é um adulto')\n",
    "else :\n",
    "    print('Você não é adulto')"
   ]
  },
  {
   "cell_type": "code",
   "execution_count": null,
   "id": "c8f88f42",
   "metadata": {},
   "outputs": [],
   "source": [
    "#\n",
    "# Aula 9 Didática Tech - Curso Python para Iniciantes"
   ]
  },
  {
   "cell_type": "code",
   "execution_count": 18,
   "id": "a012e7ed",
   "metadata": {},
   "outputs": [
    {
     "name": "stdout",
     "output_type": "stream",
     "text": [
      "0  1  2  3  4  \n",
      "Python"
     ]
    }
   ],
   "source": [
    "for i in range(5) :\n",
    "    print(i, ' ', end='')\n",
    "print()\n",
    "palavra = 'Python'\n",
    "for i in palavra :\n",
    "    print(i, end='')"
   ]
  },
  {
   "cell_type": "code",
   "execution_count": 20,
   "id": "5655cdf1",
   "metadata": {},
   "outputs": [
    {
     "name": "stdout",
     "output_type": "stream",
     "text": [
      "2\n",
      "oi\n",
      "6\n",
      "88\n",
      "3\n"
     ]
    }
   ],
   "source": [
    "lista = [2, 'oi', 6 ,88, 3]\n",
    "for num in lista :\n",
    "    print(num)"
   ]
  },
  {
   "cell_type": "code",
   "execution_count": null,
   "id": "20b6c305",
   "metadata": {},
   "outputs": [],
   "source": [
    "#\n",
    "# Aula 10 Didática Tech - Curso Python para Iniciantes"
   ]
  },
  {
   "cell_type": "code",
   "execution_count": 10,
   "id": "acc7a1b2",
   "metadata": {},
   "outputs": [
    {
     "name": "stdout",
     "output_type": "stream",
     "text": [
      " ... ... ... Isso vai dar ruim, não vai?\n",
      "fim\n"
     ]
    }
   ],
   "source": [
    "import time # importa a biblioteca time\n",
    "cont = 0\n",
    "while cont < 10 :\n",
    "    if cont%3 == 0 :\n",
    "        print(' ', end='')\n",
    "    if cont == 9 :\n",
    "        print('Isso vai dar ruim, não vai?')\n",
    "        break\n",
    "    print('.', end='')\n",
    "    cont = cont + 1\n",
    "    time.sleep(0.5)\n",
    "print('fim')"
   ]
  },
  {
   "cell_type": "code",
   "execution_count": 15,
   "id": "7baab4b6",
   "metadata": {},
   "outputs": [
    {
     "name": "stdout",
     "output_type": "stream",
     "text": [
      "Informe um número: 4\n",
      "O fatorial de 4 é 24\n"
     ]
    }
   ],
   "source": [
    "# Exercício 02\n",
    "num = numero = int(input('Informe um número: '))\n",
    "fatorial = 1\n",
    "while num > 0 :\n",
    "    fatorial = fatorial * num\n",
    "    num = num - 1\n",
    "print('O fatorial de {0} é {1}'.format(numero, fatorial))"
   ]
  },
  {
   "cell_type": "code",
   "execution_count": null,
   "id": "93347592",
   "metadata": {},
   "outputs": [],
   "source": [
    "#\n",
    "# Aula 11 Didática Tech - Curso Python para Iniciantes"
   ]
  },
  {
   "cell_type": "code",
   "execution_count": 17,
   "id": "d87935f7",
   "metadata": {},
   "outputs": [
    {
     "name": "stdout",
     "output_type": "stream",
     "text": [
      "5! = 120\n"
     ]
    }
   ],
   "source": [
    "import math # importa a biblioteca math\n",
    "num = 5;\n",
    "res_fat = math.factorial(num)\n",
    "print('{0}! = {1}'.format(num, res_fat))"
   ]
  },
  {
   "cell_type": "code",
   "execution_count": null,
   "id": "c8302625",
   "metadata": {},
   "outputs": [],
   "source": [
    "import datetime\n",
    "datetime.date.isformat(datetime.date.today())"
   ]
  },
  {
   "cell_type": "code",
   "execution_count": 19,
   "id": "02d0cecd",
   "metadata": {},
   "outputs": [],
   "source": [
    "#\n",
    "# Aula 12 Didática Tech - Curso Python para Iniciantes"
   ]
  },
  {
   "cell_type": "code",
   "execution_count": 27,
   "id": "bdbf1142",
   "metadata": {},
   "outputs": [],
   "source": [
    "def parabens() :\n",
    "    print('Parabéns a você\\nMuitas felicidades')\n",
    "\n",
    "def temLetraU() :\n",
    "    frase = input('Digite uma frase: ')\n",
    "    if 'u' in frase :\n",
    "        print('Tem a letra U')\n",
    "    else :\n",
    "        print('Não tem a letra U')"
   ]
  },
  {
   "cell_type": "code",
   "execution_count": 28,
   "id": "403e344f",
   "metadata": {},
   "outputs": [
    {
     "name": "stdout",
     "output_type": "stream",
     "text": [
      "Parabéns a você\n",
      "Muitas felicidades\n"
     ]
    }
   ],
   "source": [
    "parabens()"
   ]
  },
  {
   "cell_type": "code",
   "execution_count": 29,
   "id": "bf1d17ae",
   "metadata": {},
   "outputs": [
    {
     "name": "stdout",
     "output_type": "stream",
     "text": [
      "Digite uma frase: Eai meu nobre\n",
      "Tem a letra U\n"
     ]
    }
   ],
   "source": [
    "temLetraU()"
   ]
  },
  {
   "cell_type": "code",
   "execution_count": null,
   "id": "42b9cc89",
   "metadata": {},
   "outputs": [],
   "source": []
  }
 ],
 "metadata": {
  "kernelspec": {
   "display_name": "Python 3 (ipykernel)",
   "language": "python",
   "name": "python3"
  },
  "language_info": {
   "codemirror_mode": {
    "name": "ipython",
    "version": 3
   },
   "file_extension": ".py",
   "mimetype": "text/x-python",
   "name": "python",
   "nbconvert_exporter": "python",
   "pygments_lexer": "ipython3",
   "version": "3.11.2"
  }
 },
 "nbformat": 4,
 "nbformat_minor": 5
}
